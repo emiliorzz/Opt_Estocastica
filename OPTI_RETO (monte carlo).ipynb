{
  "nbformat": 4,
  "nbformat_minor": 0,
  "metadata": {
    "colab": {
      "provenance": []
    },
    "kernelspec": {
      "name": "python3",
      "display_name": "Python 3"
    },
    "language_info": {
      "name": "python"
    }
  },
  "cells": [
    {
      "cell_type": "markdown",
      "source": [
        "# Carga de datos"
      ],
      "metadata": {
        "id": "EC8pL0_Pu3C-"
      }
    },
    {
      "cell_type": "code",
      "source": [
        "from google.colab import drive\n",
        "drive.mount('/content/drive')"
      ],
      "metadata": {
        "colab": {
          "base_uri": "https://localhost:8080/"
        },
        "id": "cZi3BMylXHqa",
        "outputId": "a7b404b7-c95a-4331-888e-cddb76ac7cd1"
      },
      "execution_count": 1,
      "outputs": [
        {
          "output_type": "stream",
          "name": "stdout",
          "text": [
            "Drive already mounted at /content/drive; to attempt to forcibly remount, call drive.mount(\"/content/drive\", force_remount=True).\n"
          ]
        }
      ]
    },
    {
      "cell_type": "code",
      "source": [
        "import pandas as pd\n",
        "import random\n",
        "import numpy as np\n",
        "import matplotlib.pyplot as plt\n",
        "import seaborn as sns\n",
        "\n",
        "ruta = '/content/Tablas_Optimiazacion_Estocastica.xlsx'\n",
        "\n",
        "hojas = {\n",
        "    \"Cliente\": \"Clientes\",\n",
        "    \"Producto\": \"Productos\",\n",
        "    \"Máquina\": \"Máquinas\",\n",
        "    \"Tasas_Producción\": \"Rates\"\n",
        "}\n",
        "dataframes = {nombre: pd.read_excel(ruta, sheet_name=hoja) for nombre, hoja in hojas.items()}\n",
        "\n",
        "df_clientes = dataframes[\"Cliente\"]\n",
        "df_productos = dataframes[\"Producto\"]\n",
        "df_maquinas = dataframes[\"Máquina\"]\n",
        "df_tasas_produccion = dataframes[\"Tasas_Producción\"]\n"
      ],
      "metadata": {
        "id": "KAKannSLUukU"
      },
      "execution_count": 172,
      "outputs": []
    },
    {
      "cell_type": "markdown",
      "source": [
        "# Clases"
      ],
      "metadata": {
        "id": "Y38IGfROCgm5"
      }
    },
    {
      "cell_type": "markdown",
      "source": [
        "## Cliente"
      ],
      "metadata": {
        "id": "SgIy3mzLCiYv"
      }
    },
    {
      "cell_type": "code",
      "source": [
        "class Cliente:\n",
        "    def __init__(self, id_cliente, nivel_cliente, tiempo_cliente, probabilidad_compra):\n",
        "        \"\"\"\n",
        "        Representa un cliente con características adicionales.\n",
        "        :param id_cliente: Identificador único del cliente.\n",
        "        :param nivel_cliente: Nivel del cliente (valor continuo entre 0 y 1).\n",
        "        :param tiempo_cliente: Tiempo de relación con el cliente (valor continuo entre 0 y 1).\n",
        "        \"\"\"\n",
        "        self.id_cliente = id_cliente\n",
        "        self.nivel_cliente = nivel_cliente\n",
        "        self.tiempo_cliente = tiempo_cliente\n",
        "        self.probabilidad_compra = probabilidad_compra\n"
      ],
      "metadata": {
        "id": "Rq_NfcAN8dym"
      },
      "execution_count": 346,
      "outputs": []
    },
    {
      "cell_type": "markdown",
      "source": [
        "## Producto"
      ],
      "metadata": {
        "id": "8MAbT7vGCkXm"
      }
    },
    {
      "cell_type": "code",
      "source": [
        "class Producto:\n",
        "    def __init__(self, id_producto, producto, subproductos, nombre_subproducto,\n",
        "                 tamanio, dificultad, precio, popularidad, demanda_promedio, demanda_desviacion):\n",
        "        \"\"\"\n",
        "        Representa un producto y sus subproductos.\n",
        "        :param id_producto: Identificador único del producto.\n",
        "        :param producto: Nombre del producto.\n",
        "        :param subproductos: Lista de subproductos asociados (ID_Subproducto, Nombre, Tamaño).\n",
        "        :param dificultad: Dificultad asociada (1-5).\n",
        "        :param precio: Precio del producto (60-130).\n",
        "        :param popularidad: Popularidad del producto (0-1).\n",
        "        :param demanda_promedio: Demanda promedio del producto.\n",
        "        :param demanda_desviacion: Desviación estándar de la demanda del producto.\n",
        "        \"\"\"\n",
        "        self.id_producto = id_producto\n",
        "        self.producto = producto\n",
        "        self.subproductos = subproductos\n",
        "        self.dificultad = dificultad\n",
        "        self.precio = precio\n",
        "        self.tamanio = tamanio\n",
        "        self.nombre_subproducto = nombre_subproducto\n",
        "        self.popularidad = popularidad\n",
        "        self.demanda_promedio = demanda_promedio\n",
        "        self.demanda_desviacion = demanda_desviacion\n"
      ],
      "metadata": {
        "id": "lxcPcNeoCoW9"
      },
      "execution_count": 348,
      "outputs": []
    },
    {
      "cell_type": "markdown",
      "source": [
        "## Máquina"
      ],
      "metadata": {
        "id": "_ycaIedICuI4"
      }
    },
    {
      "cell_type": "code",
      "source": [
        "class Maquina:\n",
        "    def __init__(self, id_maquina, nombre, procesos, tiempo_ocupado = 0, estado = 'on'):\n",
        "        \"\"\"\n",
        "        Representa una máquina en el sistema de producción.\n",
        "        :param id_maquina: Identificador único de la máquina.\n",
        "        :param nombre: Nombre descriptivo de la máquina.\n",
        "        :param procesos: Tipo de procesos que realiza (e.g., Semiterminado, Envasado).\n",
        "        :param tasa_produccion: Tasa de producción (Unidades/secuencia).\n",
        "        :param tiempo_preparacion: Tiempo de preparación (min).\n",
        "        :param tiempo_limpieza: Tiempo de limpieza (min).\n",
        "        \"\"\"\n",
        "        self.id_maquina = id_maquina\n",
        "        self.nombre = nombre\n",
        "        self.procesos = procesos\n",
        "        self.estado = estado\n",
        "        self.turnos = []\n",
        "        self.tiempo_ocupado = tiempo_ocupado\n",
        "\n",
        "    def asignar_turno(self, turno):\n",
        "        self.turnos.append(turno)\n",
        "        self.tiempo_ocupado += turno['duracion']\n",
        "\n",
        "    def tiene_espacio(self, duracion):\n",
        "        JORNADA_TOTAL = 480\n",
        "        \"\"\"Verifica si la máquina tiene suficiente espacio en su jornada para una tarea.\"\"\"\n",
        "        return self.tiempo_ocupado + duracion <= JORNADA_TOTAL\n",
        "\n",
        "    def __str__(self):\n",
        "        return f\"Máquina {self.id_maquina}, Estado: {self.estado}, Turnos: {self.turnos}, Tiempo ocupado: {self.tiempo_ocupado}\"\n"
      ],
      "metadata": {
        "id": "3J1ukBr8CwA2"
      },
      "execution_count": 262,
      "outputs": []
    },
    {
      "cell_type": "markdown",
      "source": [
        "## Rate"
      ],
      "metadata": {
        "id": "EVFhQOGqcpUL"
      }
    },
    {
      "cell_type": "code",
      "source": [
        "class Rate:\n",
        "    def __init__(self, id_maquina, id_producto, tasa_produccion, tiempo_preparacion, tiempo_limpieza, tiempo_total):\n",
        "        \"\"\"\n",
        "        Clase para modelar las tasas de producción de las máquinas.\n",
        "\n",
        "        :param id_maquina: ID de la máquina.\n",
        "        :param id_producto: ID del producto asociado.\n",
        "        :param tasa_produccion: Unidades producidas por secuencia.\n",
        "        :param tiempo_preparacion: Tiempo de preparación en minutos.\n",
        "        :param tiempo_limpieza: Tiempo de limpieza en minutos.\n",
        "        :param tiempo_total: Tiempo total del proceso (preparación + limpieza + producción) en minutos.\n",
        "        \"\"\"\n",
        "        self.id_maquina = id_maquina\n",
        "        self.id_producto = id_producto\n",
        "        self.tasa_produccion = tasa_produccion\n",
        "        self.tiempo_preparacion = tiempo_preparacion\n",
        "        self.tiempo_limpieza = tiempo_limpieza\n",
        "        self.tiempo_total = tiempo_total"
      ],
      "metadata": {
        "id": "UoShF-LEcqxn"
      },
      "execution_count": 176,
      "outputs": []
    },
    {
      "cell_type": "markdown",
      "source": [
        "## Pedido"
      ],
      "metadata": {
        "id": "xFk_6YbACyqw"
      }
    },
    {
      "cell_type": "code",
      "source": [
        "class Pedido:\n",
        "    def __init__(self, id_pedido, id_cliente, id_producto, demanda, valor):\n",
        "        \"\"\"\n",
        "        Representa un pedido realizado por un cliente.\n",
        "        :param id_pedido: Identificador único del pedido.\n",
        "        :param id_cliente: ID del cliente asociado.\n",
        "        :param id_producto: ID del producto solicitado.\n",
        "        :param demanda: Cantidad demandada del producto.\n",
        "        :param valor: Valor del pedido (normalizado o calculado).\n",
        "        \"\"\"\n",
        "        self.id_pedido = id_pedido\n",
        "        self.id_cliente = id_cliente\n",
        "        self.id_producto = id_producto\n",
        "        self.demanda = demanda\n",
        "        self.valor = valor"
      ],
      "metadata": {
        "id": "5kgMcbuhC1Ii"
      },
      "execution_count": 362,
      "outputs": []
    },
    {
      "cell_type": "markdown",
      "source": [
        "## Secuencias"
      ],
      "metadata": {
        "id": "6tSdoe7-rcPv"
      }
    },
    {
      "cell_type": "code",
      "source": [
        "class Secuencia:\n",
        "    def __init__(self, id_secuencia, id_pedido, id_maquina, id_producto, proceso, inicio, fin, dia=1):\n",
        "        \"\"\"\n",
        "        Representa una secuencia específica en el sistema de producción.\n",
        "        :param id_secuencia: Identificador único de la secuencia.\n",
        "        :param id_pedido: Identificador del pedido asociado.\n",
        "        :param id_maquina: Identificador de la máquina usada.\n",
        "        :param id_producto: Identificador del producto procesado.\n",
        "        :param proceso: Descripción del proceso (e.g., \"Hacer el producto\").\n",
        "        :param inicio: Hora de inicio en formato minutos (0-1440).\n",
        "        :param fin: Hora de fin en formato minutos (0-1440).\n",
        "        :param dia: Día en que se ejecuta la secuencia.\n",
        "        \"\"\"\n",
        "        self.id_secuencia = id_secuencia\n",
        "        self.id_pedido = id_pedido\n",
        "        self.id_maquina = id_maquina\n",
        "        self.id_producto = id_producto\n",
        "        self.proceso = proceso\n",
        "        self.inicio = inicio\n",
        "        self.fin = fin\n",
        "        self.dia = dia\n"
      ],
      "metadata": {
        "id": "duwL9jsMC_0A"
      },
      "execution_count": 178,
      "outputs": []
    },
    {
      "cell_type": "markdown",
      "source": [
        "# Creación de objetos"
      ],
      "metadata": {
        "id": "da_XMXkGrekW"
      }
    },
    {
      "cell_type": "code",
      "source": [
        "clientes = [Cliente(row['ID_cliente'], row['Nivel_Cliente'], row['Tiempo_Cliente'], 0.1)\n",
        "            for _, row in df_clientes.iterrows()]\n",
        "\n",
        "productos = [Producto(row['ID_producto'], row['Producto'], row['ID_Subproducto'],\n",
        "                      row['Nombre_Subproducto'], row['Tamaño (mL)'], row['Dificultad'],\n",
        "                      row['Precio ($ mxn)'], 0.2, 160, 20)\n",
        "             for _, row in df_productos.iterrows()]\n",
        "\n",
        "maquinas = [Maquina(row['ID_Maquina'], row['Nombre'], row['Procesos'])\n",
        "            for _, row in df_maquinas.iterrows()]\n",
        "\n",
        "rates = [\n",
        "    Rate(\n",
        "        id_maquina=row['Máquina'],\n",
        "        id_producto=row['ID Producto'],\n",
        "        tasa_produccion=row['Tasa Producción (Unidades/secuencia)'],\n",
        "        tiempo_preparacion=row['Tiempo_Preparación (min)'],\n",
        "        tiempo_limpieza=row['Tiempo_Limpieza (min)'],\n",
        "        tiempo_total=row['Tiempo_Total (min)']\n",
        "    )\n",
        "    for _, row in df_tasas_produccion.iterrows()\n",
        "]"
      ],
      "metadata": {
        "id": "Nc7Xpkj7UBDA"
      },
      "execution_count": 419,
      "outputs": []
    },
    {
      "cell_type": "markdown",
      "source": [
        "# Generación de pedidos"
      ],
      "metadata": {
        "id": "9V0p7RUoW8MC"
      }
    },
    {
      "cell_type": "code",
      "source": [
        "def validarParametros(parametros):\n",
        "    for parametro in parametros:\n",
        "        if parametro < 0:\n",
        "            return \"Error: Todos los parámetros deben ser mayores o iguales a 0\"\n",
        "        elif parametro > 10:\n",
        "            return \"Error: Los parámetros no pueden ser mayores a 10\"\n",
        "        elif not isinstance(parametro, int):\n",
        "            return \"Error: Los parámetros deben ser números enteros\"\n",
        "    return True\n"
      ],
      "metadata": {
        "id": "rXgYF4o0y0UD"
      },
      "execution_count": 180,
      "outputs": []
    },
    {
      "cell_type": "code",
      "source": [
        "def valor_de_pedido(producto_pedido, cliente, demanda, parametros, cantidad_total):\n",
        "    id_cliente = cliente.id_cliente\n",
        "    nivel_cliente = cliente.nivel_cliente\n",
        "    tiempo_cliente = cliente.tiempo_cliente\n",
        "\n",
        "    dificultad = producto_pedido.dificultad\n",
        "    precio = producto_pedido.precio\n",
        "    cantidad_norm = demanda / cantidad_total\n",
        "\n",
        "    # Fórmula del valor prioridad\n",
        "    valor = (\n",
        "        10 * parametros[0] * (parametros[2] * nivel_cliente + parametros[3] * tiempo_cliente) +\n",
        "        parametros[1] * (parametros[4] * cantidad_norm + 2 * parametros[5] * precio + parametros[6] / 2 * (1 - abs(dificultad)))\n",
        "    )\n",
        "    #print(f'Valor del pedido: {valor}, Nivel de cliente: {nivel_cliente}, Tiempo del cliente: {tiempo_cliente}, Dificultad: {dificultad}, Precio: {precio}, Cantidad normalizada: {cantidad_norm}')\n",
        "    return valor\n"
      ],
      "metadata": {
        "id": "mqJdnR4fyU06"
      },
      "execution_count": 186,
      "outputs": []
    },
    {
      "cell_type": "code",
      "source": [
        "def generar_pedido(clientes, productos, num_pedidos, parametros, max_demand=500):\n",
        "    \"\"\"\n",
        "    Genera un pedido aleatorio para un cliente, con una cantidad aleatoria de productos demandados.\n",
        "    \"\"\"\n",
        "    pedidos = []\n",
        "    i = 0\n",
        "    cantidad_productos = [40,80,120,160,200,240,280,320,360,400]\n",
        "    demandas = [random.choice(cantidad_productos) for _ in range(num_pedidos)]\n",
        "    #demandas = [random.randint(1, max_demand) for _ in range(num_pedidos)]\n",
        "    cant_total = sum(demandas)\n",
        "    for i in range(num_pedidos):\n",
        "        cliente = random.choice(clientes)\n",
        "        demanda = demandas[i]\n",
        "        producto_pedido = random.choice(productos)\n",
        "\n",
        "        valor = valor_de_pedido(producto_pedido, cliente, demanda, parametros, cant_total)\n",
        "        pedido = Pedido(f'W{i+1}', cliente.id_cliente, producto_pedido.id_producto, demanda, valor)\n",
        "        #print(f'Pedido: {pedido.id_pedido}, Cliente: {pedido.id_cliente}, Producto: {pedido.id_producto}, Demanda: {pedido.demanda}, Valor: {pedido.valor}')\n",
        "        pedidos.append(pedido)\n",
        "\n",
        "    pedidos.sort(key=lambda p: p.valor, reverse=True)\n",
        "    for pedido in pedidos:\n",
        "        print(f'Pedido: {pedido.id_pedido}, Cliente: {pedido.id_cliente}, Producto: {pedido.id_producto}, Demanda: {pedido.demanda}, Valor: {pedido.valor}')\n",
        "\n",
        "    return pedidos"
      ],
      "metadata": {
        "id": "Ftbpmop2ojr6"
      },
      "execution_count": 215,
      "outputs": []
    },
    {
      "cell_type": "code",
      "source": [
        "# Parámetros ajustables\n",
        "beta1 = 1 #Entero: peso de la función de valor de cliente\n",
        "beta2 = 1 #Entero: peso de la función de valor de producto\n",
        "alpha1 = 1 #Entero: peso del nivel del cliente\n",
        "alpha2 = 1 #Entero: peso del tiempo del cliente\n",
        "lambda1 = 1 #Entero: peso de la cantidad de producto\n",
        "lambda2 = 1 #Entero: peso del precio del producto\n",
        "lambda3 = 1 #Entero: peso de la dificultad del producto\n",
        "\n",
        "parametros = [beta1, beta2, alpha1, alpha2, lambda1, lambda2, lambda3]\n",
        "\n",
        "if validarParametros(parametros) == True:\n",
        "    pedidos = generar_pedido(clientes, productos, 3, parametros, max_demand=100)"
      ],
      "metadata": {
        "colab": {
          "base_uri": "https://localhost:8080/"
        },
        "id": "uZAX2SyYzJCi",
        "outputId": "fafcc270-3e98-4456-ca1b-155b2fb64646"
      },
      "execution_count": 232,
      "outputs": [
        {
          "output_type": "stream",
          "name": "stdout",
          "text": [
            "Pedido: W2, Cliente: C6, Producto: P6, Demanda: 400, Valor: 265.2871198766591\n",
            "Pedido: W1, Cliente: C5, Producto: P5, Demanda: 200, Valor: 171.5963160825191\n",
            "Pedido: W3, Cliente: C2, Producto: P3, Demanda: 80, Valor: 104.61351093410653\n"
          ]
        }
      ]
    },
    {
      "cell_type": "markdown",
      "source": [
        "# Simulación Monte Carlo"
      ],
      "metadata": {
        "id": "s2sAGYKwBtTg"
      }
    },
    {
      "cell_type": "code",
      "source": [
        "def actualizar_probabilidades(clientes, productos, pedidos_realizados, iteracion, intervalo_actualizacion=10):\n",
        "    \"\"\"\n",
        "    Actualiza las probabilidades de compra y popularidad de los productos basados en los pedidos realizados.\n",
        "    \"\"\"\n",
        "    if iteracion % intervalo_actualizacion == 0:\n",
        "        # Actualizar probabilidad de compra de los clientes basados en la demanda total generada\n",
        "        for cliente in clientes:\n",
        "            total_compras = sum([pedido.demanda for pedido in pedidos_realizados if pedido.id_cliente == cliente.id_cliente])\n",
        "            cliente.probabilidad_compra = min(1, cliente.probabilidad_compra + (total_compras / 1000))\n",
        "\n",
        "        # Actualizar popularidad de los productos basado en la cantidad vendida\n",
        "        for producto in productos:\n",
        "            total_vendido = sum([pedido.demanda for pedido in pedidos_realizados if pedido.id_producto == producto.id_producto])\n",
        "            producto.popularidad = min(1, producto.popularidad + (total_vendido / 1000))"
      ],
      "metadata": {
        "id": "hec8hL3wCItf"
      },
      "execution_count": null,
      "outputs": []
    },
    {
      "cell_type": "code",
      "source": [
        "def simular_pedidos(clientes, productos, num_pedidos, parametros, iteraciones=100, max_demand=500):\n",
        "    \"\"\"\n",
        "    Simula una serie de pedidos generados por los clientes, ajustando las probabilidades de compra y popularidad\n",
        "    de los productos durante la simulación.\n",
        "    \"\"\"\n",
        "    pedidos_acumulados = []\n",
        "    for i in range(iteraciones):\n",
        "        pedidos_realizados = []\n",
        "        for _ in range(num_pedidos):\n",
        "            cliente = random.choices(clientes, weights=[cliente.probabilidad_compra for cliente in clientes])[0]\n",
        "            producto = random.choices(productos, weights=[producto.popularidad for producto in productos])[0]\n",
        "\n",
        "            demanda = random.randint(1, max_demand)\n",
        "            valor = valor_de_pedido(producto, cliente, demanda, parametros, max_demand)\n",
        "\n",
        "            pedido = Pedido(f'W{i+1}', cliente.id_cliente, producto.id_producto, demanda, valor)\n",
        "            pedidos_realizados.append(pedido)\n",
        "\n",
        "        pedidos_acumulados.extend(pedidos_realizados)\n",
        "        actualizar_probabilidades(clientes, productos, pedidos_acumulados, i)\n",
        "        if i % 100 == 0:\n",
        "            print(f'Pedido: {pedido.id_pedido}, Cliente: {pedido.id_cliente}, Producto: {pedido.id_producto}, Demanda: {pedido.demanda}, Valor: {pedido.valor}')\n",
        "\n",
        "    pedidos_acumulados.sort(key=lambda p: p.valor, reverse=True)\n",
        "    return pedidos_acumulados\n",
        "\n",
        "parametros = {\n",
        "    'max_demand': 500\n",
        "}\n",
        "\n",
        "iteraciones = 1000\n",
        "num_pedidos = 10\n",
        "\n",
        "simulacion_pedidos = simular_pedidos(clientes, productos, num_pedidos, parametros, iteraciones)\n"
      ],
      "metadata": {
        "colab": {
          "base_uri": "https://localhost:8080/"
        },
        "id": "-u61s1IGBAK5",
        "outputId": "3ae43a1f-36a1-4c46-c626-6288c3283ecd"
      },
      "execution_count": 426,
      "outputs": [
        {
          "output_type": "stream",
          "name": "stdout",
          "text": [
            "Pedido: W1, Cliente: C7, Producto: P7, Demanda: 155, Valor: 6.780033829803192\n",
            "Pedido: W101, Cliente: C9, Producto: P2, Demanda: 154, Valor: 23.50602195249531\n",
            "Pedido: W201, Cliente: C5, Producto: P4, Demanda: 120, Valor: 20.531083733472755\n",
            "Pedido: W301, Cliente: C9, Producto: P3, Demanda: 314, Valor: 23.96393147105041\n",
            "Pedido: W401, Cliente: C1, Producto: P3, Demanda: 197, Valor: 15.681038826297202\n",
            "Pedido: W501, Cliente: C2, Producto: P1, Demanda: 84, Valor: 4.769120577227167\n",
            "Pedido: W601, Cliente: C5, Producto: P4, Demanda: 115, Valor: 19.675621911244722\n",
            "Pedido: W701, Cliente: C9, Producto: P4, Demanda: 14, Valor: 1.7095288692723862\n",
            "Pedido: W801, Cliente: C5, Producto: P3, Demanda: 287, Valor: 30.68969287243063\n",
            "Pedido: W901, Cliente: C10, Producto: P1, Demanda: 397, Valor: 0.7683707248636157\n"
          ]
        }
      ]
    },
    {
      "cell_type": "code",
      "source": [
        "def generar_pedido_ponderado(clientes, productos, num_pedidos, parametros, max_demand=500):\n",
        "    \"\"\"\n",
        "    Genera un pedido aleatorio para un cliente, con una cantidad aleatoria de productos demandados.\n",
        "    Esta versión usa distribuciones ponderadas por probabilidad de compra y popularidad.\n",
        "    \"\"\"\n",
        "    pedidos = []\n",
        "    cantidad_productos = [40, 80, 120, 160, 200, 240, 280, 320, 360, 400]\n",
        "    demandas = [random.choice(cantidad_productos) for _ in range(num_pedidos)]\n",
        "    cant_total = sum(demandas)\n",
        "\n",
        "    for i in range(num_pedidos):\n",
        "        cliente = random.choices(clientes, weights=[cliente.probabilidad_compra for cliente in clientes])[0]\n",
        "\n",
        "        producto = random.choices(productos, weights=[producto.popularidad for producto in productos])[0]\n",
        "\n",
        "        demanda = max(0, int(random.gauss(producto.demanda_promedio, producto.demanda_desviacion)))\n",
        "\n",
        "        demanda = min(demanda, max_demand)\n",
        "        valor = valor_de_pedido(producto, cliente, demanda, parametros, cant_total)\n",
        "\n",
        "        pedido = Pedido(f'W{i+1}', cliente.id_cliente, producto.id_producto, demanda, valor)\n",
        "\n",
        "        pedidos.append(pedido)\n",
        "\n",
        "    pedidos.sort(key=lambda p: p.valor, reverse=True)\n",
        "\n",
        "    for pedido in pedidos:\n",
        "        print(f'Pedido: {pedido.id_pedido}, Cliente: {pedido.id_cliente}, Producto: {pedido.id_producto}, Demanda: {pedido.demanda}, Valor: {pedido.valor}')\n",
        "\n",
        "    return pedidos"
      ],
      "metadata": {
        "id": "CF2z7NfqEO8c"
      },
      "execution_count": 431,
      "outputs": []
    },
    {
      "cell_type": "code",
      "source": [
        "pedidos_ponderados = generar_pedido_ponderado(clientes, productos, 10, parametros)"
      ],
      "metadata": {
        "colab": {
          "base_uri": "https://localhost:8080/"
        },
        "id": "y5FDZKdfEhsM",
        "outputId": "5ae7af9f-494b-445d-aca9-1820c80a06c8"
      },
      "execution_count": 433,
      "outputs": [
        {
          "output_type": "stream",
          "name": "stdout",
          "text": [
            "Pedido: W10, Cliente: C1, Producto: P6, Demanda: 153, Valor: 9.423974566565487\n",
            "Pedido: W3, Cliente: C7, Producto: P6, Demanda: 170, Valor: 7.1927202207493535\n",
            "Pedido: W7, Cliente: C1, Producto: P5, Demanda: 165, Valor: 6.2542214318081655\n",
            "Pedido: W1, Cliente: C2, Producto: P6, Demanda: 159, Valor: 5.821152348550026\n",
            "Pedido: W5, Cliente: C1, Producto: P1, Demanda: 155, Valor: 4.406383281501208\n",
            "Pedido: W6, Cliente: C7, Producto: P1, Demanda: 202, Valor: 3.9446049355421797\n",
            "Pedido: W9, Cliente: C8, Producto: P2, Demanda: 154, Valor: 3.7439251707626617\n",
            "Pedido: W8, Cliente: C2, Producto: P1, Demanda: 168, Valor: 2.8387622483495045\n",
            "Pedido: W4, Cliente: C7, Producto: P3, Demanda: 167, Valor: 2.717611486120231\n",
            "Pedido: W2, Cliente: C3, Producto: P2, Demanda: 191, Valor: 0.4866266435415214\n"
          ]
        }
      ]
    }
  ]
}